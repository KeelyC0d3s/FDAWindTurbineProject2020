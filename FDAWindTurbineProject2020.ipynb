{
 "cells": [
  {
   "cell_type": "markdown",
   "metadata": {},
   "source": [
    "Introduction:\n",
    "\n",
    "For this project I was asked to perform and explain simple linear regression using Python\n",
    "on the powerproduction dataset available on Moodle. The goal is to accurately predict wind turbine power output from wind speed values using the data set as a basis."
   ]
  },
  {
   "cell_type": "markdown",
   "metadata": {},
   "source": [
    "First I must import the dataset from Moodle into this notebook.\n",
    "\n",
    "I did this by first copying the data set from https://raw.githubusercontent.com/ianmcloughlin/2020A-machstat-project/master/dataset/powerproduction.csv to a folder on my desktop.\n",
    "\n",
    "Then used pandas to read the csv and print the data set in the Jupyter Notebook."
   ]
  },
  {
   "cell_type": "code",
   "execution_count": 1,
   "metadata": {},
   "outputs": [
    {
     "name": "stdout",
     "output_type": "stream",
     "text": [
      "      speed  power\n",
      "0     0.000    0.0\n",
      "1     0.125    0.0\n",
      "2     0.150    0.0\n",
      "3     0.225    0.0\n",
      "4     0.275    0.0\n",
      "..      ...    ...\n",
      "495  24.775    0.0\n",
      "496  24.850    0.0\n",
      "497  24.875    0.0\n",
      "498  24.950    0.0\n",
      "499  25.000    0.0\n",
      "\n",
      "[500 rows x 2 columns]\n"
     ]
    }
   ],
   "source": [
    "import pandas as pd\n",
    "\n",
    "data = pd.read_csv (\"data.csv\")\n",
    "print(data)"
   ]
  },
  {
   "cell_type": "markdown",
   "metadata": {},
   "source": [
    "Next step is to import the libraries I'll need for plotting and data analysis."
   ]
  },
  {
   "cell_type": "code",
   "execution_count": null,
   "metadata": {},
   "outputs": [],
   "source": [
    "# Make matplotlib show interactive plots in the notebook.\n",
    "%matplotlib inline\n",
    "\n",
    "import numpy as np  # numpy efficiently deals with numerical multi-dimensional arrays.\n",
    "import matplotlib.pyplot as plt  # matplotlib is a plotting library, and pyplot is its easy-to-use module.\n",
    "\n"
   ]
  },
  {
   "cell_type": "code",
   "execution_count": 17,
   "metadata": {},
   "outputs": [
    {
     "name": "stdout",
     "output_type": "stream",
     "text": [
      "m is 4.917596 and c is -13.899903.\n"
     ]
    },
    {
     "data": {
      "image/png": "[encoded data removed]",
      "text/plain": [
       "<Figure size 432x288 with 1 Axes>"
      ]
     },
     "metadata": {
      "needs_background": "light"
     },
     "output_type": "display_data"
    }
   ],
   "source": [
    "import numpy as np\n",
    "import matplotlib.pyplot as plt\n",
    "import pandas as pd\n",
    "\n",
    "data = pd.read_csv(\"data.csv\")\n",
    "\n",
    "# w_avg = np.mean(w)\n",
    "# d_avg = np.mean(d)\n",
    "\n",
    "# # Subtract means from w and d.\n",
    "# w_zero = w - w_avg\n",
    "# d_zero = d - d_avg\n",
    "\n",
    "# # The best m is found by the following calculation.\n",
    "# m = np.sum(w_zero * d_zero) / np.sum(w_zero * w_zero)\n",
    "# # Use m from above to calculate the best c.\n",
    "# c = d_avg - m * w_avg\n",
    "\n",
    "# print(\"m is %8.6f and c is %6.6f.\" % (m, c))\n",
    "\n",
    "speed = data.speed\n",
    "power = data.power\n",
    "\n",
    "average_speed = speed.mean()\n",
    "average_power = power.mean()\n",
    "\n",
    "speed_zero = speed - average_speed\n",
    "power_zero = power - average_power\n",
    "\n",
    "slope = np.sum(speed_zero * power_zero) / np.sum(speed_zero * speed_zero)\n",
    "constant = average_power - slope * average_speed\n",
    "print(\"m is %8.6f and c is %6.6f.\" % (slope, constant))\n",
    "\n",
    "plt.plot(speed, power, 'k.', label=\"Original Data\")\n",
    "plt.plot(speed, slope * speed + constant, \"b-\", label=\"Best Fit Line\")\n",
    "\n",
    "plt.xlabel('speed')\n",
    "plt.ylabel('power')\n",
    "plt.legend()\n",
    "\n",
    "plt.show()"
   ]
  },
  {
   "cell_type": "markdown",
   "metadata": {},
   "source": [
    "Analysis:"
   ]
  },
  {
   "cell_type": "markdown",
   "metadata": {},
   "source": [
    "References:\n",
    "\n",
    "https://raw.githubusercontent.com/ianmcloughlin/2020A-machstat-project/master/dataset/powerproduction.csv\n",
    "\n",
    "https://github.com/ianmcloughlin/jupyter-teaching-notebooks/blob/master/fitting-lines.ipynb\n",
    "\n",
    "https://stackoverflow.com/questions/55209661/how-to-load-csv-file-in-jupyter-notebook/55217635\n",
    "\n",
    "https://www.dummies.com/education/math/statistics/how-to-calculate-a-correlation/\n",
    "\n",
    "https://github.com/ianmcloughlin/jupyter-teaching-notebooks/blob/master/simple-linear-regression.ipynb\n",
    "\n",
    "https://web.microsoftstream.com/video/24fb96b4-cc6c-43e9-987b-5ab44b52cfc5\n",
    "\n",
    "https://www.geeksforgeeks.org/python-pandas-dataframe-mean/\n",
    "\n",
    "https://numpy.org/doc/stable/reference/generated/numpy.polyfit.html"
   ]
  }
 ],
 "metadata": {
  "kernelspec": {
   "display_name": "Python 3",
   "language": "python",
   "name": "python3"
  },
  "language_info": {
   "codemirror_mode": {
    "name": "ipython",
    "version": 3
   },
   "file_extension": ".py",
   "mimetype": "text/x-python",
   "name": "python",
   "nbconvert_exporter": "python",
   "pygments_lexer": "ipython3",
   "version": "3.8.3"
  }
 },
 "nbformat": 4,
 "nbformat_minor": 4
}
