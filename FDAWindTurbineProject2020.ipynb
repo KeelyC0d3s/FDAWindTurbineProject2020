{
 "cells": [
  {
   "cell_type": "markdown",
   "metadata": {},
   "source": [
    "## Introduction:\n",
    "\n",
    "For this project I was asked to perform and explain simple linear regression using Python\n",
    "on the powerproduction dataset available on Moodle. The goal is to accurately predict wind turbine power output from wind speed values using the data set as a basis."
   ]
  },
  {
   "cell_type": "markdown",
   "metadata": {},
   "source": [
    "### First I must import the dataset from Moodle into this notebook.\n",
    "\n",
    "I did this by first copying the data set from https://raw.githubusercontent.com/ianmcloughlin/2020A-machstat-project/master/dataset/powerproduction.csv to my project repository.\n",
    "\n",
    "Then used pandas to read the csv and print the data set in the Jupyter Notebook."
   ]
  },
  {
   "cell_type": "code",
   "execution_count": 1,
   "metadata": {},
   "outputs": [
    {
     "name": "stdout",
     "output_type": "stream",
     "text": [
      "      speed  power\n",
      "0     0.000    0.0\n",
      "1     0.125    0.0\n",
      "2     0.150    0.0\n",
      "3     0.225    0.0\n",
      "4     0.275    0.0\n",
      "..      ...    ...\n",
      "495  24.775    0.0\n",
      "496  24.850    0.0\n",
      "497  24.875    0.0\n",
      "498  24.950    0.0\n",
      "499  25.000    0.0\n",
      "\n",
      "[500 rows x 2 columns]\n"
     ]
    }
   ],
   "source": [
    "import pandas as pd\n",
    "\n",
    "data = pd.read_csv (\"data.csv\")\n",
    "print(data)"
   ]
  },
  {
   "cell_type": "markdown",
   "metadata": {},
   "source": [
    "### Next step is to import the libraries I'll need for plotting and data analysis."
   ]
  },
  {
   "cell_type": "code",
   "execution_count": null,
   "metadata": {},
   "outputs": [],
   "source": [
    "# Make matplotlib show interactive plots in the notebook.\n",
    "%matplotlib inline\n",
    "\n",
    "import numpy as np  # numpy efficiently deals with numerical multi-dimensional arrays.\n",
    "import matplotlib.pyplot as plt  # matplotlib is a plotting library, and pyplot is its easy-to-use module.\n",
    "\n"
   ]
  },
  {
   "cell_type": "markdown",
   "metadata": {},
   "source": [
    "### Then, I plot the data set and do a simple linear regression to find the line of best fit."
   ]
  },
  {
   "cell_type": "code",
   "execution_count": 17,
   "metadata": {},
   "outputs": [
    {
     "name": "stdout",
     "output_type": "stream",
     "text": [
      "m is 4.917596 and c is -13.899903.\n"
     ]
    },
    {
     "data": {
      "image/png": "[encoded data removed]",
      "text/plain": [
       "<Figure size 432x288 with 1 Axes>"
      ]
     },
     "metadata": {
      "needs_background": "light"
     },
     "output_type": "display_data"
    }
   ],
   "source": [
    "import numpy as np\n",
    "import matplotlib.pyplot as plt\n",
    "import pandas as pd\n",
    "\n",
    "data = pd.read_csv(\"data.csv\")\n",
    "\n",
    "# w_avg = np.mean(w)\n",
    "# d_avg = np.mean(d)\n",
    "\n",
    "# # Subtract means from w and d.\n",
    "# w_zero = w - w_avg\n",
    "# d_zero = d - d_avg\n",
    "\n",
    "# # The best m is found by the following calculation.\n",
    "# m = np.sum(w_zero * d_zero) / np.sum(w_zero * w_zero)\n",
    "# # Use m from above to calculate the best c.\n",
    "# c = d_avg - m * w_avg\n",
    "\n",
    "# print(\"m is %8.6f and c is %6.6f.\" % (m, c))\n",
    "\n",
    "speed = data.speed\n",
    "power = data.power\n",
    "\n",
    "average_speed = speed.mean()\n",
    "average_power = power.mean()\n",
    "\n",
    "speed_zero = speed - average_speed\n",
    "power_zero = power - average_power\n",
    "\n",
    "slope = np.sum(speed_zero * power_zero) / np.sum(speed_zero * speed_zero)\n",
    "constant = average_power - slope * average_speed\n",
    "print(\"m is %8.6f and c is %6.6f.\" % (slope, constant))\n",
    "\n",
    "plt.plot(speed, power, 'k.', label=\"Original Data\")\n",
    "plt.plot(speed, slope * speed + constant, \"b-\", label=\"Best Fit Line\")\n",
    "\n",
    "plt.xlabel('speed')\n",
    "plt.ylabel('power')\n",
    "plt.legend()\n",
    "\n",
    "plt.show()"
   ]
  },
  {
   "cell_type": "code",
   "execution_count": 18,
   "metadata": {},
   "outputs": [
    {
     "name": "stdout",
     "output_type": "stream",
     "text": [
      "0.8537775037188597\n"
     ]
    }
   ],
   "source": [
    "### Relationship for linear regression\n",
    "### https://www.w3schools.com/python/python_ml_linear_regression.asp\n",
    "\n",
    "from scipy import stats\n",
    "import numpy as np\n",
    "from sklearn.metrics import r2_score\n",
    "import pandas as pd\n",
    "\n",
    "# Load a dataset.\n",
    "data = pd.read_csv('data.csv')\n",
    "\n",
    "x = data.speed.tolist()\n",
    "y = data.power.tolist()\n",
    "\n",
    "slope, intercept, r, p, std_err = stats.linregress(x, y)\n",
    "\n",
    "print(r)"
   ]
  },
  {
   "cell_type": "markdown",
   "metadata": {},
   "source": [
    "## Analysis:\n",
    "\n",
    "Looking at the graph, I can see that the best power output of the wind turbines is between 13 and 25 kmph. Any speeds above 25 kmph actually have a negative effect on the power output, which was surprising to me, as I predicted that the faster the wind turbines rotate, the more power would be produced.\n",
    "\n",
    "After plotting the data set and line of best fit, I tested the relationship between coefficients and line of best fit for linear regression.\n",
    "In this relationship test, there are three possible results: a 0 result shows that there is no relationship at all between coefficients and line of best fit, a 1 shows 100% relationship between coefficients and line of best fit, and anything between 0 and 1 shows the degree to which there is a relationship between the coefficients and line of best fit.\n",
    "\n",
    "The relationship test for simple linear regression result came up as 0.85, so it's a very positive relationship.\n",
    "I was curious to see if there was another type of regression that would produce an even closer fit to the the data set, so I then plotted out the data set with polynomial regression."
   ]
  },
  {
   "cell_type": "markdown",
   "metadata": {},
   "source": [
    "### Plotting data set with polynomial regression"
   ]
  },
  {
   "cell_type": "code",
   "execution_count": 27,
   "metadata": {},
   "outputs": [
    {
     "name": "stdout",
     "output_type": "stream",
     "text": [
      "0.8796883953739737\n"
     ]
    },
    {
     "data": {
      "image/png": "[encoded data removed]",
      "text/plain": [
       "<Figure size 432x288 with 1 Axes>"
      ]
     },
     "metadata": {
      "needs_background": "light"
     },
     "output_type": "display_data"
    }
   ],
   "source": [
    "### Polynomial Regression\n",
    "### https://www.w3schools.com/python/python_ml_polynomial_regression.asp\n",
    "import numpy as np\n",
    "import matplotlib.pyplot as plt\n",
    "import pandas as pd\n",
    "\n",
    "from scipy import stats\n",
    "from sklearn.metrics import r2_score\n",
    "\n",
    "# Load a dataset.\n",
    "data = pd.read_csv('data.csv')\n",
    "\n",
    "x = data.speed.tolist()\n",
    "y = data.power.tolist()\n",
    "\n",
    "mymodel = np.poly1d(np.polyfit(x, y, 3))\n",
    "\n",
    "### Relationship of coefficients\n",
    "print(r2_score(y, mymodel(x)))\n",
    "\n",
    "myline = np.linspace(0, 25, 100)\n",
    "\n",
    "plt.scatter(x, y)\n",
    "plt.plot(myline, mymodel(myline), \"r+\")\n",
    "plt.show()"
   ]
  },
  {
   "cell_type": "markdown",
   "metadata": {},
   "source": [
    "## Analysis:\n",
    "\n",
    "Looking at the polynomial regression graph, I can immediately see that the polynomial regression line is a much better visual fit to the data set. It also shows the same relationship between the speed and power as in the linear regression graph.\n",
    "\n",
    "I tested the relationship between the coefficients and line of best fit for the polynomial regression and the result was 0.87. This surprised me a little becuase the polynomial line of best fit was visually so much better than the simple linear regression. I would have predicted the relationship to be closer to 0.90 or above. However, polynomial regression is still the better fit to the data set than simple linear regression.\n"
   ]
  },
  {
   "cell_type": "markdown",
   "metadata": {},
   "source": [
    "### References:\n",
    "\n",
    "https://raw.githubusercontent.com/ianmcloughlin/2020A-machstat-project/master/dataset/powerproduction.csv\n",
    "\n",
    "https://github.com/ianmcloughlin/jupyter-teaching-notebooks/blob/master/fitting-lines.ipynb\n",
    "\n",
    "https://stackoverflow.com/questions/55209661/how-to-load-csv-file-in-jupyter-notebook/55217635\n",
    "\n",
    "https://www.dummies.com/education/math/statistics/how-to-calculate-a-correlation/\n",
    "\n",
    "https://github.com/ianmcloughlin/jupyter-teaching-notebooks/blob/master/simple-linear-regression.ipynb\n",
    "\n",
    "https://web.microsoftstream.com/video/24fb96b4-cc6c-43e9-987b-5ab44b52cfc5\n",
    "\n",
    "https://www.geeksforgeeks.org/python-pandas-dataframe-mean/\n",
    "\n",
    "https://numpy.org/doc/stable/reference/generated/numpy.polyfit.html\n",
    "\n",
    "https://www.w3schools.com/python/python_ml_linear_regression.asp\n",
    "\n",
    "https://www.w3schools.com/python/python_ml_polynomial_regression.asp"
   ]
  }
 ],
 "metadata": {
  "kernelspec": {
   "display_name": "Python 3",
   "language": "python",
   "name": "python3"
  },
  "language_info": {
   "codemirror_mode": {
    "name": "ipython",
    "version": 3
   },
   "file_extension": ".py",
   "mimetype": "text/x-python",
   "name": "python",
   "nbconvert_exporter": "python",
   "pygments_lexer": "ipython3",
   "version": "3.8.3"
  }
 },
 "nbformat": 4,
 "nbformat_minor": 4
}
